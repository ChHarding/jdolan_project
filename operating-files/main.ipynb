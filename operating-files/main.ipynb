{
 "cells": [
  {
   "cell_type": "markdown",
   "id": "225f87b6",
   "metadata": {},
   "source": []
  },
  {
   "cell_type": "code",
   "execution_count": null,
   "id": "56655648",
   "metadata": {},
   "outputs": [],
   "source": [
    "import flask\n",
    "import data\n",
    "import api-keys\n",
    "import tmp"
   ]
  }
 ],
 "metadata": {
  "kernelspec": {
   "display_name": "Python 3",
   "language": "python",
   "name": "python3"
  },
  "language_info": {
   "name": "python",
   "version": "3.13.1"
  }
 },
 "nbformat": 4,
 "nbformat_minor": 5
}
