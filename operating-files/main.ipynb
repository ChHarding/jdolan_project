{
 "cells": [
  {
   "cell_type": "markdown",
   "id": "225f87b6",
   "metadata": {},
   "source": [
    "Code for Vignette 1"
   ]
  },
  {
   "cell_type": "code",
   "execution_count": null,
   "id": "56655648",
   "metadata": {},
   "outputs": [],
   "source": [
    "import weather #importing weather file for vignette 1\n",
    "\n"
   ]
  },
  {
   "cell_type": "markdown",
   "id": "787aa68b",
   "metadata": {},
   "source": [
    "Code for Vignette 2"
   ]
  },
  {
   "cell_type": "code",
   "execution_count": null,
   "id": "8d4a2360",
   "metadata": {},
   "outputs": [],
   "source": [
    "import pip\n",
    "import forecast #import forecast file for vignette 2  "
   ]
  },
  {
   "cell_type": "code",
   "execution_count": 6,
   "id": "df7f93f1",
   "metadata": {},
   "outputs": [],
   "source": [
    "import api_keys #import API Keys"
   ]
  },
  {
   "cell_type": "code",
   "execution_count": null,
   "id": "5db4adaf",
   "metadata": {},
   "outputs": [],
   "source": [
    "import weather_history #import weather history file"
   ]
  }
 ],
 "metadata": {
  "kernelspec": {
   "display_name": "Python 3",
   "language": "python",
   "name": "python3"
  },
  "language_info": {
   "codemirror_mode": {
    "name": "ipython",
    "version": 3
   },
   "file_extension": ".py",
   "mimetype": "text/x-python",
   "name": "python",
   "nbconvert_exporter": "python",
   "pygments_lexer": "ipython3",
   "version": "3.13.1"
  }
 },
 "nbformat": 4,
 "nbformat_minor": 5
}
